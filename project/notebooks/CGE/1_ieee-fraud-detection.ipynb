{
 "cells": [
  {
   "cell_type": "markdown",
   "id": "fc0debd1",
   "metadata": {},
   "source": [
    "1. 이상치 탐지 <br>\n",
    "**target : isFraud**\n",
    "```\n",
    "feature:18\n",
    "EDA: 데이터 유형 파악, feature 파악\n",
    "feature describe 파악\n",
    "feature 스케일: pca, tsm(차원축소)\n",
    "test data : random sampling 40만개->1000개 축약\n",
    "kaggle 참고, EDA 제일 많이\n",
    "역할 분담: 50,50,50 feature 대상으로 t-test (샘플 수 줄여서),\n",
    "브레인 스토밍\n",
    "주피터노트북 -> vscode (함수이용)\n",
    "EDA: notebook(ipynb) -> modeling, 전처리: .py\n",
    "111\n",
    "\n",
    "```"
   ]
  },
  {
   "cell_type": "code",
   "execution_count": null,
   "id": "42e9db7f",
   "metadata": {},
   "outputs": [],
   "source": []
  },
  {
   "cell_type": "code",
   "execution_count": 1,
   "id": "4e5f7de7",
   "metadata": {},
   "outputs": [],
   "source": [
    "import pandas as pd\n",
    "import numpy as np\n",
    "import warnings\n",
    "warnings.filterwarnings('ignore')"
   ]
  },
  {
   "cell_type": "code",
   "execution_count": 3,
   "id": "eaf530dd",
   "metadata": {},
   "outputs": [],
   "source": [
    "data_id = pd.read_csv('train_identity.csv')\n",
    "data_transaction = pd.read_csv('train_transaction.csv')"
   ]
  },
  {
   "cell_type": "code",
   "execution_count": null,
   "id": "39ee07ad",
   "metadata": {},
   "outputs": [],
   "source": [
    "data"
   ]
  }
 ],
 "metadata": {
  "kernelspec": {
   "display_name": "Python 3 (ipykernel)",
   "language": "python",
   "name": "python3"
  },
  "language_info": {
   "codemirror_mode": {
    "name": "ipython",
    "version": 3
   },
   "file_extension": ".py",
   "mimetype": "text/x-python",
   "name": "python",
   "nbconvert_exporter": "python",
   "pygments_lexer": "ipython3",
   "version": "3.8.13"
  },
  "toc": {
   "base_numbering": 1,
   "nav_menu": {},
   "number_sections": true,
   "sideBar": true,
   "skip_h1_title": false,
   "title_cell": "Table of Contents",
   "title_sidebar": "Contents",
   "toc_cell": false,
   "toc_position": {},
   "toc_section_display": true,
   "toc_window_display": false
  }
 },
 "nbformat": 4,
 "nbformat_minor": 5
}
