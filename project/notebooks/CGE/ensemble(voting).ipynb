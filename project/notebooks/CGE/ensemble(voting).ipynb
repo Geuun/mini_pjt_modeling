{
 "cells": [
  {
   "cell_type": "markdown",
   "id": "eb8528e7",
   "metadata": {},
   "source": [
    "Simple blend (equal weights)"
   ]
  },
  {
   "cell_type": "code",
   "execution_count": 1,
   "id": "862377b0",
   "metadata": {},
   "outputs": [],
   "source": [
    "import pandas as pd\n",
    "import numpy as np\n",
    "import matplotlib.pyplot as plt\n",
    "import seaborn as sns"
   ]
  },
  {
   "cell_type": "code",
   "execution_count": 2,
   "id": "f2e8a263",
   "metadata": {},
   "outputs": [],
   "source": [
    "ge = pd.read_csv('xgbm_submission_fi(xgb_166)_null0.csv')\n",
    "jh = pd.read_csv('JH_submission(0.89).csv')\n",
    "jg = pd.read_csv('Jaegeun_Catboost.csv')"
   ]
  },
  {
   "cell_type": "code",
   "execution_count": 4,
   "id": "61c2c72b",
   "metadata": {},
   "outputs": [
    {
     "data": {
      "text/plain": [
       "((506691, 2), (506691, 2), (506691, 2))"
      ]
     },
     "execution_count": 4,
     "metadata": {},
     "output_type": "execute_result"
    }
   ],
   "source": [
    "ge.shape, jh.shape, jg.shape"
   ]
  },
  {
   "cell_type": "code",
   "execution_count": 5,
   "id": "cf578ab3",
   "metadata": {},
   "outputs": [],
   "source": [
    "ge.rename(columns={'isFraud':'isFraud_ge'}, inplace=True)\n",
    "jh.rename(columns={'isFraud':'isFraud_jh'}, inplace=True)\n",
    "jg.rename(columns={'isFraud':'isFraud_jg'}, inplace=True)"
   ]
  },
  {
   "cell_type": "code",
   "execution_count": 6,
   "id": "daa26167",
   "metadata": {},
   "outputs": [
    {
     "data": {
      "text/html": [
       "<div>\n",
       "<style scoped>\n",
       "    .dataframe tbody tr th:only-of-type {\n",
       "        vertical-align: middle;\n",
       "    }\n",
       "\n",
       "    .dataframe tbody tr th {\n",
       "        vertical-align: top;\n",
       "    }\n",
       "\n",
       "    .dataframe thead th {\n",
       "        text-align: right;\n",
       "    }\n",
       "</style>\n",
       "<table border=\"1\" class=\"dataframe\">\n",
       "  <thead>\n",
       "    <tr style=\"text-align: right;\">\n",
       "      <th></th>\n",
       "      <th>TransactionID</th>\n",
       "      <th>isFraud_ge</th>\n",
       "      <th>isFraud_jh</th>\n",
       "    </tr>\n",
       "  </thead>\n",
       "  <tbody>\n",
       "    <tr>\n",
       "      <th>0</th>\n",
       "      <td>3663549</td>\n",
       "      <td>0.0008</td>\n",
       "      <td>0.017992</td>\n",
       "    </tr>\n",
       "    <tr>\n",
       "      <th>1</th>\n",
       "      <td>3663550</td>\n",
       "      <td>0.0044</td>\n",
       "      <td>0.010498</td>\n",
       "    </tr>\n",
       "  </tbody>\n",
       "</table>\n",
       "</div>"
      ],
      "text/plain": [
       "   TransactionID  isFraud_ge  isFraud_jh\n",
       "0        3663549      0.0008    0.017992\n",
       "1        3663550      0.0044    0.010498"
      ]
     },
     "execution_count": 6,
     "metadata": {},
     "output_type": "execute_result"
    }
   ],
   "source": [
    "gh = pd.merge(ge, jh, left_on='TransactionID', right_on='TransactionID')\n",
    "gh.head(2)"
   ]
  },
  {
   "cell_type": "code",
   "execution_count": 8,
   "id": "b4b1958e",
   "metadata": {},
   "outputs": [
    {
     "data": {
      "text/html": [
       "<div>\n",
       "<style scoped>\n",
       "    .dataframe tbody tr th:only-of-type {\n",
       "        vertical-align: middle;\n",
       "    }\n",
       "\n",
       "    .dataframe tbody tr th {\n",
       "        vertical-align: top;\n",
       "    }\n",
       "\n",
       "    .dataframe thead th {\n",
       "        text-align: right;\n",
       "    }\n",
       "</style>\n",
       "<table border=\"1\" class=\"dataframe\">\n",
       "  <thead>\n",
       "    <tr style=\"text-align: right;\">\n",
       "      <th></th>\n",
       "      <th>TransactionID</th>\n",
       "      <th>isFraud_ge</th>\n",
       "      <th>isFraud_jh</th>\n",
       "      <th>isFraud_jg</th>\n",
       "    </tr>\n",
       "  </thead>\n",
       "  <tbody>\n",
       "    <tr>\n",
       "      <th>0</th>\n",
       "      <td>3663549</td>\n",
       "      <td>0.0008</td>\n",
       "      <td>0.017992</td>\n",
       "      <td>0.005351</td>\n",
       "    </tr>\n",
       "    <tr>\n",
       "      <th>1</th>\n",
       "      <td>3663550</td>\n",
       "      <td>0.0044</td>\n",
       "      <td>0.010498</td>\n",
       "      <td>0.040050</td>\n",
       "    </tr>\n",
       "  </tbody>\n",
       "</table>\n",
       "</div>"
      ],
      "text/plain": [
       "   TransactionID  isFraud_ge  isFraud_jh  isFraud_jg\n",
       "0        3663549      0.0008    0.017992    0.005351\n",
       "1        3663550      0.0044    0.010498    0.040050"
      ]
     },
     "execution_count": 8,
     "metadata": {},
     "output_type": "execute_result"
    }
   ],
   "source": [
    "ghg = pd.merge(gh, jg, left_on='TransactionID', right_on='TransactionID')\n",
    "ghg.head(2)"
   ]
  },
  {
   "cell_type": "code",
   "execution_count": 11,
   "id": "df4532b3",
   "metadata": {},
   "outputs": [
    {
     "data": {
      "text/html": [
       "<div>\n",
       "<style scoped>\n",
       "    .dataframe tbody tr th:only-of-type {\n",
       "        vertical-align: middle;\n",
       "    }\n",
       "\n",
       "    .dataframe tbody tr th {\n",
       "        vertical-align: top;\n",
       "    }\n",
       "\n",
       "    .dataframe thead th {\n",
       "        text-align: right;\n",
       "    }\n",
       "</style>\n",
       "<table border=\"1\" class=\"dataframe\">\n",
       "  <thead>\n",
       "    <tr style=\"text-align: right;\">\n",
       "      <th></th>\n",
       "      <th>TransactionID</th>\n",
       "      <th>isFraud_ge</th>\n",
       "      <th>isFraud_jh</th>\n",
       "      <th>isFraud_jg</th>\n",
       "      <th>isFraud</th>\n",
       "    </tr>\n",
       "  </thead>\n",
       "  <tbody>\n",
       "    <tr>\n",
       "      <th>0</th>\n",
       "      <td>3663549</td>\n",
       "      <td>0.0008</td>\n",
       "      <td>0.017992</td>\n",
       "      <td>0.005351</td>\n",
       "      <td>0.008048</td>\n",
       "    </tr>\n",
       "    <tr>\n",
       "      <th>1</th>\n",
       "      <td>3663550</td>\n",
       "      <td>0.0044</td>\n",
       "      <td>0.010498</td>\n",
       "      <td>0.040050</td>\n",
       "      <td>0.018316</td>\n",
       "    </tr>\n",
       "  </tbody>\n",
       "</table>\n",
       "</div>"
      ],
      "text/plain": [
       "   TransactionID  isFraud_ge  isFraud_jh  isFraud_jg   isFraud\n",
       "0        3663549      0.0008    0.017992    0.005351  0.008048\n",
       "1        3663550      0.0044    0.010498    0.040050  0.018316"
      ]
     },
     "execution_count": 11,
     "metadata": {},
     "output_type": "execute_result"
    }
   ],
   "source": [
    "ghg['isFraud'] = (ghg.isFraud_ge+ghg.isFraud_jh+ghg.isFraud_jg)/3\n",
    "ghg.head(2)"
   ]
  },
  {
   "cell_type": "code",
   "execution_count": 12,
   "id": "3ae2545d",
   "metadata": {},
   "outputs": [],
   "source": [
    "ghg.drop(['isFraud_ge','isFraud_jh','isFraud_jg'],axis = 1, inplace=True)"
   ]
  },
  {
   "cell_type": "code",
   "execution_count": 13,
   "id": "4bd4efde",
   "metadata": {},
   "outputs": [
    {
     "data": {
      "text/html": [
       "<div>\n",
       "<style scoped>\n",
       "    .dataframe tbody tr th:only-of-type {\n",
       "        vertical-align: middle;\n",
       "    }\n",
       "\n",
       "    .dataframe tbody tr th {\n",
       "        vertical-align: top;\n",
       "    }\n",
       "\n",
       "    .dataframe thead th {\n",
       "        text-align: right;\n",
       "    }\n",
       "</style>\n",
       "<table border=\"1\" class=\"dataframe\">\n",
       "  <thead>\n",
       "    <tr style=\"text-align: right;\">\n",
       "      <th></th>\n",
       "      <th>TransactionID</th>\n",
       "      <th>isFraud</th>\n",
       "    </tr>\n",
       "  </thead>\n",
       "  <tbody>\n",
       "    <tr>\n",
       "      <th>0</th>\n",
       "      <td>3663549</td>\n",
       "      <td>0.008048</td>\n",
       "    </tr>\n",
       "    <tr>\n",
       "      <th>1</th>\n",
       "      <td>3663550</td>\n",
       "      <td>0.018316</td>\n",
       "    </tr>\n",
       "  </tbody>\n",
       "</table>\n",
       "</div>"
      ],
      "text/plain": [
       "   TransactionID   isFraud\n",
       "0        3663549  0.008048\n",
       "1        3663550  0.018316"
      ]
     },
     "execution_count": 13,
     "metadata": {},
     "output_type": "execute_result"
    }
   ],
   "source": [
    "ghg.head(2)"
   ]
  },
  {
   "cell_type": "code",
   "execution_count": 14,
   "id": "973a0fe3",
   "metadata": {},
   "outputs": [],
   "source": [
    "submission_df = pd.DataFrame({'TransactionID':ghg.TransactionID,'isFraud':ghg.isFraud})"
   ]
  },
  {
   "cell_type": "code",
   "execution_count": 16,
   "id": "dcad9ce1",
   "metadata": {},
   "outputs": [],
   "source": [
    "# 파일 제출\n",
    "submission_df.reset_index(drop=True).to_csv('ghg_ensemble.csv', index=False)"
   ]
  },
  {
   "cell_type": "markdown",
   "id": "d7ad09cb",
   "metadata": {},
   "source": [
    "\n",
    "**Private Score : 0.895434**<br>\n",
    "**Public Score : 0.918889**"
   ]
  },
  {
   "cell_type": "markdown",
   "id": "19c23598",
   "metadata": {},
   "source": [
    "```\n",
    "from sklearn.ensemble import VotingClassifier\n",
    "\n",
    "voting = VotingClassifier(enumerate=[('rfc',gh.isFraud_jh),\n",
    "                                    ('xgb',gh.isFraud_ge)], voting='soft', n_jobs=2)\n",
    "voting = voting.fit(train, target)\n",
    "prediction = voting.predict(test)\n",
    "submission_df = pd.DataFrame({'TransactionID':gh.TransactionID,'isFraud':gh.isFraud})\n",
    "```"
   ]
  },
  {
   "cell_type": "code",
   "execution_count": null,
   "id": "b18f9f37",
   "metadata": {},
   "outputs": [],
   "source": []
  }
 ],
 "metadata": {
  "kernelspec": {
   "display_name": "Python 3 (ipykernel)",
   "language": "python",
   "name": "python3"
  },
  "language_info": {
   "codemirror_mode": {
    "name": "ipython",
    "version": 3
   },
   "file_extension": ".py",
   "mimetype": "text/x-python",
   "name": "python",
   "nbconvert_exporter": "python",
   "pygments_lexer": "ipython3",
   "version": "3.8.13"
  },
  "toc": {
   "base_numbering": 1,
   "nav_menu": {},
   "number_sections": true,
   "sideBar": true,
   "skip_h1_title": false,
   "title_cell": "Table of Contents",
   "title_sidebar": "Contents",
   "toc_cell": false,
   "toc_position": {},
   "toc_section_display": true,
   "toc_window_display": false
  }
 },
 "nbformat": 4,
 "nbformat_minor": 5
}
