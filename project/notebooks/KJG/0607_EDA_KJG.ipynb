{
  "cells": [
    {
      "cell_type": "markdown",
      "id": "d90ca7ff",
      "metadata": {
        "id": "d90ca7ff"
      },
      "source": [
        "### Scikit-learn을 이용한 머신러닝 학습 가이드!\n",
        "\n",
        "- scikit-learn(sklearn)을 완전히 사용해서 end-to-end로 학습시키는 코드를 완성해봅니다!\n",
        "\n",
        "- 너무나 유명한 california house pricing 데이터를 이용하여 회귀분석 예제 코드를 만들어봅시다.\n",
        "\n",
        "\n",
        "> Data Load - Data Preprocessing - Fit - Evalution - Predict"
      ]
    },
    {
      "cell_type": "code",
      "execution_count": null,
      "id": "e5e1add9",
      "metadata": {
        "id": "e5e1add9"
      },
      "outputs": [],
      "source": [
        "!pip install sklearn"
      ]
    },
    {
      "cell_type": "code",
      "execution_count": null,
      "id": "ae90ce8c",
      "metadata": {
        "id": "ae90ce8c"
      },
      "outputs": [],
      "source": [
        "# Hands-on!!\n"
      ]
    },
    {
      "cell_type": "code",
      "execution_count": null,
      "id": "f3f06082",
      "metadata": {},
      "outputs": [],
      "source": [
        "TEST입니다."
      ]
    }
  ],
  "metadata": {
    "colab": {
      "name": "6. sklearn-tutorial.ipynb",
      "provenance": []
    },
    "kernelspec": {
      "display_name": "Python 3 (ipykernel)",
      "language": "python",
      "name": "python3"
    },
    "language_info": {
      "codemirror_mode": {
        "name": "ipython",
        "version": 3
      },
      "file_extension": ".py",
      "mimetype": "text/x-python",
      "name": "python",
      "nbconvert_exporter": "python",
      "pygments_lexer": "ipython3",
      "version": "3.10.2"
    }
  },
  "nbformat": 4,
  "nbformat_minor": 5
}
