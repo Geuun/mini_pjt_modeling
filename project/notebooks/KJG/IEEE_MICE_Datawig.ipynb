{
 "cells": [
  {
   "cell_type": "markdown",
   "metadata": {},
   "source": [
    "# IEEE_MICE_and_Datawig"
   ]
  },
  {
   "cell_type": "code",
   "execution_count": 2,
   "metadata": {
    "ExecuteTime": {
     "end_time": "2022-06-16T05:55:11.334160Z",
     "start_time": "2022-06-16T05:55:09.766224Z"
    },
    "colab": {
     "base_uri": "https://localhost:8080/"
    },
    "id": "U4XnCZzRsJEK",
    "outputId": "4f0a80ab-4b07-490a-e7b5-2e69c67c718a"
   },
   "outputs": [
    {
     "name": "stdout",
     "output_type": "stream",
     "text": [
      "Requirement already satisfied: sklearn in /Users/krc/miniforge3/envs/jupyter/lib/python3.8/site-packages (0.0)\n",
      "Requirement already satisfied: scikit-learn in /Users/krc/miniforge3/envs/jupyter/lib/python3.8/site-packages (from sklearn) (1.1.1)\n",
      "Requirement already satisfied: scipy>=1.3.2 in /Users/krc/miniforge3/envs/jupyter/lib/python3.8/site-packages (from scikit-learn->sklearn) (1.8.1)\n",
      "Requirement already satisfied: threadpoolctl>=2.0.0 in /Users/krc/miniforge3/envs/jupyter/lib/python3.8/site-packages (from scikit-learn->sklearn) (3.1.0)\n",
      "Requirement already satisfied: numpy>=1.17.3 in /Users/krc/miniforge3/envs/jupyter/lib/python3.8/site-packages (from scikit-learn->sklearn) (1.22.3)\n",
      "Requirement already satisfied: joblib>=1.0.0 in /Users/krc/miniforge3/envs/jupyter/lib/python3.8/site-packages (from scikit-learn->sklearn) (1.1.0)\n",
      "Requirement already satisfied: impyute in /Users/krc/miniforge3/envs/jupyter/lib/python3.8/site-packages (0.0.8)\n",
      "Requirement already satisfied: numpy in /Users/krc/miniforge3/envs/jupyter/lib/python3.8/site-packages (from impyute) (1.22.3)\n",
      "Requirement already satisfied: scipy in /Users/krc/miniforge3/envs/jupyter/lib/python3.8/site-packages (from impyute) (1.8.1)\n",
      "Requirement already satisfied: scikit-learn in /Users/krc/miniforge3/envs/jupyter/lib/python3.8/site-packages (from impyute) (1.1.1)\n",
      "Requirement already satisfied: joblib>=1.0.0 in /Users/krc/miniforge3/envs/jupyter/lib/python3.8/site-packages (from scikit-learn->impyute) (1.1.0)\n",
      "Requirement already satisfied: threadpoolctl>=2.0.0 in /Users/krc/miniforge3/envs/jupyter/lib/python3.8/site-packages (from scikit-learn->impyute) (3.1.0)\n"
     ]
    }
   ],
   "source": [
    "# !pip install datawig\n",
    "!pip install sklearn\n",
    "!pip install impyute\n",
    "# !pip install fancyImpute import IterativeImputer"
   ]
  },
  {
   "cell_type": "code",
   "execution_count": 3,
   "metadata": {
    "ExecuteTime": {
     "end_time": "2022-06-16T05:55:13.957093Z",
     "start_time": "2022-06-16T05:55:13.049406Z"
    },
    "id": "rZG0XtAPsMEI"
   },
   "outputs": [],
   "source": [
    "###\n",
    "import pandas as pd\n",
    "import numpy as np\n",
    "import matplotlib.pyplot as plt\n",
    "import seaborn as sns\n",
    "\n",
    "###\n",
    "from sklearn import preprocessing\n",
    "from sklearn.preprocessing import LabelEncoder\n",
    "\n",
    "###\n",
    "# import datawig\n",
    "import impyute\n",
    "from impyute.imputation.cs import mice\n",
    "# from facyimpute import InterativeImputer"
   ]
  },
  {
   "cell_type": "markdown",
   "metadata": {
    "id": "GYDVbwlXu13R"
   },
   "source": [
    "### Load Data"
   ]
  },
  {
   "cell_type": "code",
   "execution_count": 5,
   "metadata": {
    "ExecuteTime": {
     "end_time": "2022-06-16T05:55:30.756031Z",
     "start_time": "2022-06-16T05:55:30.750802Z"
    }
   },
   "outputs": [],
   "source": [
    "data_path = '../../data/extracted/'\n",
    "colab_path = '/content/drive/MyDrive/YearDream-2th/Project/mini_team_ pjt_modeling/data/extracted/'"
   ]
  },
  {
   "cell_type": "code",
   "execution_count": null,
   "metadata": {
    "ExecuteTime": {
     "end_time": "2022-06-16T04:03:40.517319Z",
     "start_time": "2022-06-16T04:03:25.557496Z"
    },
    "colab": {
     "base_uri": "https://localhost:8080/"
    },
    "id": "4qBC_HXkvD7p",
    "outputId": "cd334b00-0d6c-4953-d0cd-4db24766feb6"
   },
   "outputs": [],
   "source": [
    "# load data\n",
    "\n",
    "# train\n",
    "train = pd.read_csv( data_path + 'train.csv',)\n",
    "# train.head()\n",
    "\n",
    "\n",
    "# test\n",
    "test = pd.read_csv( data_path + 'test.csv',)\n",
    "# test.head()"
   ]
  },
  {
   "cell_type": "code",
   "execution_count": null,
   "metadata": {
    "ExecuteTime": {
     "end_time": "2022-06-16T04:03:40.524443Z",
     "start_time": "2022-06-16T04:03:40.518574Z"
    }
   },
   "outputs": [],
   "source": [
    "train.shape, test.shape"
   ]
  },
  {
   "cell_type": "code",
   "execution_count": null,
   "metadata": {
    "ExecuteTime": {
     "end_time": "2022-06-16T04:03:40.527676Z",
     "start_time": "2022-06-16T04:03:40.525302Z"
    },
    "id": "82bGD6rISzBC"
   },
   "outputs": [],
   "source": [
    "# def reduce_mem_usage(memory_df,verbose=True):\n",
    "#     numerics = ['int16','int32','int64','float16','float32','float64']\n",
    "#     start_mem = memory_df.memory_usage().sum()/1024**2\n",
    "#     for col in memory_df.columns:\n",
    "#         col_type = memory_df[col].dtypes\n",
    "#         if col_type in numerics:\n",
    "#             c_min = memory_df[col].min()\n",
    "#             c_max = memory_df[col].max()\n",
    "#             if str(col_type)[:3]=='int':\n",
    "#                 if c_min > np.iinfo(np.int8).min and c_max < np.iinfo(np.int8).max:\n",
    "#                     memory_df[col] = memory_df[col].astype(np.int8)\n",
    "#                 elif c_min > np.iinfo(np.int16).min and c_max < np.iinfo(np.int16).max:\n",
    "#                     memory_df[col] = memory_df[col].astype(np.int16)\n",
    "#                 elif c_min > np.iinfo(np.int32).min and c_max < np.iinfo(np.int32).max:\n",
    "#                     memory_df[col] = memory_df[col].astype(np.int32)\n",
    "#                 elif c_min > np.iinfo(np.int64).min and c_max < np.iinfo(np.int64).max:\n",
    "#                     memory_df[col] = memory_df[col].astype(np.int64)\n",
    "#             else:\n",
    "#                 if c_min > np.finfo(np.float16).min and c_max < np.finfo(np.float16).max:\n",
    "#                     memory_df[col] = memory_df[col].astype(np.float16)\n",
    "#                 elif c_min > np.finfo(np.float32).min and c_max < np.finfo(np.float32).max:\n",
    "#                     memory_df[col] = memory_df[col].astype(np.float32)\n",
    "#                 else: \n",
    "#                     memory_df[col] = memory_df[col].astype(np.float64)\n",
    "#     end_mem = memory_df.memory_usage().sum()/1024**2\n",
    "#     if verbose : print('Meme usage decrease to {:5.2f} Mb ({:.1f}% reduction)'.format(end_mem, 100*(start_mem - end_mem)/start_mem))\n",
    "#     return memory_df"
   ]
  },
  {
   "cell_type": "code",
   "execution_count": null,
   "metadata": {
    "ExecuteTime": {
     "end_time": "2022-06-16T04:03:40.529991Z",
     "start_time": "2022-06-16T04:03:40.528851Z"
    },
    "colab": {
     "base_uri": "https://localhost:8080/"
    },
    "id": "BW1fYbbWS0Bf",
    "outputId": "28d2e264-9b56-4992-db22-a52e89270da6"
   },
   "outputs": [],
   "source": [
    "# train = reduce_mem_usage(train)\n",
    "# test = reduce_mem_usage(test)"
   ]
  },
  {
   "cell_type": "markdown",
   "metadata": {
    "id": "Qf-nlw0ku0Bf"
   },
   "source": [
    "---"
   ]
  },
  {
   "cell_type": "markdown",
   "metadata": {
    "heading_collapsed": true,
    "id": "SPpt0u6W5Vi2"
   },
   "source": [
    "### Data Labeling"
   ]
  },
  {
   "cell_type": "code",
   "execution_count": null,
   "metadata": {
    "ExecuteTime": {
     "end_time": "2022-06-16T03:48:07.484549Z",
     "start_time": "2022-06-16T03:47:51.482191Z"
    },
    "hidden": true,
    "id": "GWOoCe8D5g_I"
   },
   "outputs": [],
   "source": [
    "# LabelEncoder train Data\n",
    "\n",
    "for f in train.columns:\n",
    "    if train[f].dtype == 'object':\n",
    "        le = preprocessing.LabelEncoder()\n",
    "        le.fit(list(train[f].values))\n",
    "        train[f] = le.transform(list(train[f].values))\n",
    "    else :\n",
    "        pass"
   ]
  },
  {
   "cell_type": "code",
   "execution_count": null,
   "metadata": {
    "ExecuteTime": {
     "end_time": "2022-06-16T03:48:07.496285Z",
     "start_time": "2022-06-16T03:48:07.485543Z"
    },
    "colab": {
     "base_uri": "https://localhost:8080/"
    },
    "hidden": true,
    "id": "WkHaahl9-y69",
    "outputId": "a402fded-bda4-4f84-d3ea-4361858e01bf"
   },
   "outputs": [],
   "source": [
    "train.info()"
   ]
  },
  {
   "cell_type": "code",
   "execution_count": null,
   "metadata": {
    "ExecuteTime": {
     "end_time": "2022-06-16T03:50:05.083497Z",
     "start_time": "2022-06-16T03:50:05.080131Z"
    },
    "hidden": true,
    "id": "bWqZ_i8C_Ms0"
   },
   "outputs": [],
   "source": [
    "# train.to_csv('/content/drive/MyDrive/YearDream-2th/Project/mini_team_ pjt_modeling/data/extracted/train_label.csv')"
   ]
  },
  {
   "cell_type": "code",
   "execution_count": null,
   "metadata": {
    "hidden": true,
    "id": "NY7hjfcX5Usd"
   },
   "outputs": [],
   "source": [
    "# LabelEncoder test Data\n",
    "\n",
    "for f in test.columns:\n",
    "    if test[f].dtype == 'object':\n",
    "        le = preprocessing.LabelEncoder()\n",
    "        le.fit(list(test[f].values))\n",
    "        test[f] = le.transform(list(test[f].values))\n",
    "    else :\n",
    "        pass"
   ]
  },
  {
   "cell_type": "code",
   "execution_count": null,
   "metadata": {
    "colab": {
     "base_uri": "https://localhost:8080/"
    },
    "hidden": true,
    "id": "U0Uw5X6t-0r-",
    "outputId": "fa705560-f159-4754-ae38-b8fbc4a4d9fc"
   },
   "outputs": [],
   "source": [
    "test.info()"
   ]
  },
  {
   "cell_type": "code",
   "execution_count": null,
   "metadata": {
    "ExecuteTime": {
     "end_time": "2022-06-16T03:50:08.329231Z",
     "start_time": "2022-06-16T03:50:08.326822Z"
    },
    "hidden": true,
    "id": "6jcMEDf7_LQZ"
   },
   "outputs": [],
   "source": [
    "# test.to_csv('/content/drive/MyDrive/YearDream-2th/Project/mini_team_ pjt_modeling/data/extracted/test_label.csv')"
   ]
  },
  {
   "cell_type": "code",
   "execution_count": null,
   "metadata": {
    "hidden": true,
    "id": "h3M4x-mBB1m5"
   },
   "outputs": [],
   "source": [
    "train =  pd.read_csv( data_path + 'train.csv')"
   ]
  },
  {
   "cell_type": "code",
   "execution_count": null,
   "metadata": {
    "hidden": true,
    "id": "pynplQlqB0RP"
   },
   "outputs": [],
   "source": [
    "test =  pd.read_csv( data_path + 'test.csv')"
   ]
  },
  {
   "cell_type": "markdown",
   "metadata": {
    "id": "YwI2oGaryYCk"
   },
   "source": [
    "### Data Slicing"
   ]
  },
  {
   "cell_type": "code",
   "execution_count": null,
   "metadata": {
    "ExecuteTime": {
     "end_time": "2022-06-16T03:50:43.367858Z",
     "start_time": "2022-06-16T03:50:43.365201Z"
    },
    "id": "fBOAMxS-ygjV"
   },
   "outputs": [],
   "source": [
    "# Data Slicing\n",
    "# df.select_dtypes('numerical')"
   ]
  },
  {
   "cell_type": "code",
   "execution_count": null,
   "metadata": {
    "ExecuteTime": {
     "end_time": "2022-06-16T03:50:44.359289Z",
     "start_time": "2022-06-16T03:50:44.356861Z"
    },
    "id": "JgxdDa3z0QM2"
   },
   "outputs": [],
   "source": [
    "### train"
   ]
  },
  {
   "cell_type": "code",
   "execution_count": null,
   "metadata": {
    "id": "DMdjKvZe1SEZ"
   },
   "outputs": [],
   "source": [
    "# train.drop(train.loc[:, 'id_01.1':'id_38.1'], axis=1, inplace=True)"
   ]
  },
  {
   "cell_type": "code",
   "execution_count": null,
   "metadata": {
    "id": "fROSaJwP3D-A"
   },
   "outputs": [],
   "source": [
    "# train.to_csv( data_path + 'train.csv',)"
   ]
  },
  {
   "cell_type": "code",
   "execution_count": null,
   "metadata": {
    "id": "TR51wgIdFHxg"
   },
   "outputs": [],
   "source": [
    "# train_v = train.loc[:,'V1':'V339']"
   ]
  },
  {
   "cell_type": "code",
   "execution_count": null,
   "metadata": {
    "id": "tnXHP2t2g72V"
   },
   "outputs": [],
   "source": [
    "# train_v.to_csv( data_path + 'train_v.csv',)"
   ]
  },
  {
   "cell_type": "code",
   "execution_count": null,
   "metadata": {
    "id": "GjjdAtMXWqNf"
   },
   "outputs": [],
   "source": [
    "# train_drop_v = train.drop(train.loc[:,'V1':'V339'], axis= 1)"
   ]
  },
  {
   "cell_type": "code",
   "execution_count": null,
   "metadata": {
    "id": "CGBEY4pFh2oK"
   },
   "outputs": [],
   "source": [
    "# train_drop_v.to_csv( data_path + 'train_drop_v.csv',)"
   ]
  },
  {
   "cell_type": "code",
   "execution_count": null,
   "metadata": {
    "id": "6tleeTCDXnzd"
   },
   "outputs": [],
   "source": [
    "# train_numeric = train_drop_v.select_dtypes(include='number')"
   ]
  },
  {
   "cell_type": "code",
   "execution_count": null,
   "metadata": {
    "id": "s9Nn1vsYh-Ew"
   },
   "outputs": [],
   "source": [
    "# train_numeric.to_csv( data_path + 'train_numeric.csv',)"
   ]
  },
  {
   "cell_type": "code",
   "execution_count": null,
   "metadata": {
    "id": "ksaceM32ZGfH"
   },
   "outputs": [],
   "source": [
    "# train_categorical = train_drop_v.select_dtypes(include='object')"
   ]
  },
  {
   "cell_type": "code",
   "execution_count": null,
   "metadata": {
    "id": "XQSoRntyiEoi"
   },
   "outputs": [],
   "source": [
    "# train_categorical.to_csv( data_path + 'train_categorical.csv',)"
   ]
  },
  {
   "cell_type": "markdown",
   "metadata": {
    "id": "1iJVns7e8iOO"
   },
   "source": [
    "---"
   ]
  },
  {
   "cell_type": "code",
   "execution_count": null,
   "metadata": {
    "id": "8ZcCNKt20Tt4"
   },
   "outputs": [],
   "source": [
    "### test"
   ]
  },
  {
   "cell_type": "code",
   "execution_count": null,
   "metadata": {
    "id": "_EMkCsbX1Iln"
   },
   "outputs": [],
   "source": [
    "# test.columns = [col.replace('-','_')for col in test.columns]"
   ]
  },
  {
   "cell_type": "code",
   "execution_count": null,
   "metadata": {
    "id": "RDG1vJzF7L3h"
   },
   "outputs": [],
   "source": [
    "# test.to_csv('/content/drive/MyDrive/YearDream-2th/Project/mini_team_ pjt_modeling/data/extracted/test.csv')"
   ]
  },
  {
   "cell_type": "code",
   "execution_count": null,
   "metadata": {
    "colab": {
     "base_uri": "https://localhost:8080/"
    },
    "id": "Mc643d4k0WNx",
    "outputId": "edcc87f2-2887-4f6e-c3fd-c1a598d0f38f"
   },
   "outputs": [],
   "source": [
    "# test_v = test.loc[:, 'V1':'V339']"
   ]
  },
  {
   "cell_type": "markdown",
   "metadata": {
    "id": "uO6Ql0ITu5aT"
   },
   "source": [
    "### reload Data"
   ]
  },
  {
   "cell_type": "code",
   "execution_count": null,
   "metadata": {
    "colab": {
     "base_uri": "https://localhost:8080/"
    },
    "id": "fD0-iEE8uuzI",
    "outputId": "931b09ae-d203-464b-8477-1f879d9b679f"
   },
   "outputs": [],
   "source": [
    "# # train\n",
    "# train_v = pd.read_csv( data_path + 'train_categorical.csv',)"
   ]
  },
  {
   "cell_type": "code",
   "execution_count": null,
   "metadata": {
    "colab": {
     "base_uri": "https://localhost:8080/"
    },
    "id": "JshSWAD0wAzb",
    "outputId": "d5691ca0-5573-4662-cbb0-100dca10486d"
   },
   "outputs": [],
   "source": [
    "# train_drop_v = pd.read_csv( data_path + 'train_categorical.csv',)"
   ]
  },
  {
   "cell_type": "code",
   "execution_count": null,
   "metadata": {
    "colab": {
     "base_uri": "https://localhost:8080/"
    },
    "id": "uaDpzei4wBkq",
    "outputId": "ad5a4e5c-2862-4243-f328-9098e4410d84"
   },
   "outputs": [],
   "source": [
    "# train_numeric = pd.read_csv( data_path + 'train_categorical.csv',)"
   ]
  },
  {
   "cell_type": "code",
   "execution_count": null,
   "metadata": {
    "colab": {
     "base_uri": "https://localhost:8080/"
    },
    "id": "0DuVf05xwDRz",
    "outputId": "b97ee2b4-eafe-44fa-9757-14fb194272cb"
   },
   "outputs": [],
   "source": [
    "# train_categorical = pd.read_csv( data_path + 'train_categorical.csv',)"
   ]
  },
  {
   "cell_type": "code",
   "execution_count": null,
   "metadata": {},
   "outputs": [],
   "source": [
    "# # test\n",
    "# train_v = pd.read_csv( data_path + 'train_categorical.csv',)"
   ]
  },
  {
   "cell_type": "code",
   "execution_count": null,
   "metadata": {},
   "outputs": [],
   "source": [
    "# train_drop_v = pd.read_csv( data_path + 'train_categorical.csv',)"
   ]
  },
  {
   "cell_type": "code",
   "execution_count": null,
   "metadata": {},
   "outputs": [],
   "source": [
    "# train_numeric = pd.read_csv( data_path + 'train_categorical.csv',)"
   ]
  },
  {
   "cell_type": "code",
   "execution_count": null,
   "metadata": {
    "ExecuteTime": {
     "end_time": "2022-06-16T03:45:19.423083Z",
     "start_time": "2022-06-16T03:45:19.344763Z"
    }
   },
   "outputs": [],
   "source": [
    "# train_categorical = pd.read_csv( data_path + 'train_categorical.csv',)"
   ]
  },
  {
   "cell_type": "markdown",
   "metadata": {
    "id": "XNrM9mYUyfmg"
   },
   "source": [
    "---"
   ]
  },
  {
   "cell_type": "code",
   "execution_count": 6,
   "metadata": {
    "ExecuteTime": {
     "end_time": "2022-06-16T05:55:51.549430Z",
     "start_time": "2022-06-16T05:55:42.813868Z"
    }
   },
   "outputs": [],
   "source": [
    "# label_null60\n",
    "## for jupyter\n",
    "train_label_null60 = pd.read_csv(data_path + 'train_label&null60.csv')\n",
    "test_label_null60 = pd.read_csv(data_path + 'test_label&null60.csv')"
   ]
  },
  {
   "cell_type": "code",
   "execution_count": null,
   "metadata": {},
   "outputs": [],
   "source": [
    "# ## for colab\n",
    "# train_label_null60 = pd.read_csv(colab_path + 'train_label&null60.csv')\n",
    "# test_label_null60 = pd.read_csv(colab_path + 'test_label&null60.csv')"
   ]
  },
  {
   "cell_type": "code",
   "execution_count": 7,
   "metadata": {
    "ExecuteTime": {
     "end_time": "2022-06-16T05:56:05.520195Z",
     "start_time": "2022-06-16T05:56:05.502129Z"
    },
    "scrolled": true
   },
   "outputs": [
    {
     "data": {
      "text/plain": [
       "['card1',\n",
       " 'card4',\n",
       " 'card6',\n",
       " 'P_emaildomain',\n",
       " 'M1',\n",
       " 'M2',\n",
       " 'M3',\n",
       " 'M4',\n",
       " 'M5',\n",
       " 'M6',\n",
       " 'M7',\n",
       " 'M8',\n",
       " 'M9']"
      ]
     },
     "execution_count": 7,
     "metadata": {},
     "output_type": "execute_result"
    }
   ],
   "source": [
    "# label_null60 categorical column indexing\n",
    "\n",
    "object_col = ['card1','card4','card6','P_emaildomain','R_emaildomain',\n",
    "              'M1','M2','M3','M4','M5','M6','M7','M8','M9','id_12',\n",
    "              'id_15','id_16','id_23','id_27','id_28','id_29','id_30',\n",
    "              'id_31','id_33','id_34','id_35','id_36','id_37','id_38','DeviceType']\n",
    "\n",
    "a = ['R_emaildomain', 'id_12', 'id_15', 'id_16', 'id_23', 'id_27', 'id_28', 'id_29', 'id_30', 'id_31', 'id_33', 'id_34', 'id_35', 'id_36', 'id_37', 'id_38', 'DeviceType']\n",
    "\n",
    "for i in a:\n",
    "    object_col.remove(i)\n",
    "    \n",
    "object_col"
   ]
  },
  {
   "cell_type": "code",
   "execution_count": null,
   "metadata": {
    "ExecuteTime": {
     "end_time": "2022-06-16T04:44:46.349375Z",
     "start_time": "2022-06-16T04:44:46.312978Z"
    }
   },
   "outputs": [],
   "source": [
    "#train_no_object\n",
    "train_no_object = train_label_null60[object_col]\n",
    "\n",
    "#test_no_object\n",
    "test_no_object = test_label_null60[object_col]"
   ]
  },
  {
   "cell_type": "markdown",
   "metadata": {
    "heading_collapsed": true,
    "id": "jqvuGk9ZtqHY"
   },
   "source": [
    "### MICE"
   ]
  },
  {
   "cell_type": "code",
   "execution_count": null,
   "metadata": {
    "ExecuteTime": {
     "start_time": "2022-06-16T04:47:15.046Z"
    },
    "colab": {
     "base_uri": "https://localhost:8080/"
    },
    "hidden": true,
    "id": "RrRwVVbZtl1r",
    "outputId": "9c699606-9310-4e9a-922a-5d2c192cc045"
   },
   "outputs": [],
   "source": [
    "# MICE code Guide Line\n",
    "\n",
    "from impyute.imputation.cs import mice\n",
    "\n",
    "# start the MICE training\n",
    "# train\n",
    "train_imputed = mice(train_no_object.values)"
   ]
  },
  {
   "cell_type": "code",
   "execution_count": null,
   "metadata": {
    "hidden": true
   },
   "outputs": [],
   "source": [
    "train_imputed.to_csv(data_path + 'train_mice.csv')"
   ]
  },
  {
   "cell_type": "code",
   "execution_count": null,
   "metadata": {
    "hidden": true
   },
   "outputs": [],
   "source": [
    "# test\n",
    "test_imputed = mice(test_no_object.values)"
   ]
  },
  {
   "cell_type": "code",
   "execution_count": null,
   "metadata": {
    "hidden": true
   },
   "outputs": [],
   "source": [
    "test_imputed.to_csv(data_path + 'test_mice.csv')"
   ]
  },
  {
   "cell_type": "markdown",
   "metadata": {},
   "source": [
    "### MICE label_null60"
   ]
  },
  {
   "cell_type": "code",
   "execution_count": 1,
   "metadata": {
    "ExecuteTime": {
     "end_time": "2022-06-16T05:55:04.820580Z",
     "start_time": "2022-06-16T05:55:04.563145Z"
    }
   },
   "outputs": [
    {
     "ename": "NameError",
     "evalue": "name 'pd' is not defined",
     "output_type": "error",
     "traceback": [
      "\u001b[0;31m---------------------------------------------------------------------------\u001b[0m",
      "\u001b[0;31mNameError\u001b[0m                                 Traceback (most recent call last)",
      "Input \u001b[0;32mIn [1]\u001b[0m, in \u001b[0;36m<cell line: 3>\u001b[0;34m()\u001b[0m\n\u001b[1;32m      1\u001b[0m \u001b[38;5;66;03m# label_null60\u001b[39;00m\n\u001b[1;32m      2\u001b[0m \u001b[38;5;66;03m## for jupyter\u001b[39;00m\n\u001b[0;32m----> 3\u001b[0m train_label_null60 \u001b[38;5;241m=\u001b[39m \u001b[43mpd\u001b[49m\u001b[38;5;241m.\u001b[39mread_csv(data_path \u001b[38;5;241m+\u001b[39m \u001b[38;5;124m'\u001b[39m\u001b[38;5;124mtrain_label&null60.csv\u001b[39m\u001b[38;5;124m'\u001b[39m)\n\u001b[1;32m      4\u001b[0m test_label_null60 \u001b[38;5;241m=\u001b[39m pd\u001b[38;5;241m.\u001b[39mread_csv(data_path \u001b[38;5;241m+\u001b[39m \u001b[38;5;124m'\u001b[39m\u001b[38;5;124mtest_label&null60.csv\u001b[39m\u001b[38;5;124m'\u001b[39m)\n",
      "\u001b[0;31mNameError\u001b[0m: name 'pd' is not defined"
     ]
    }
   ],
   "source": [
    "# label_null60\n",
    "## for jupyter\n",
    "train_label_null60 = pd.read_csv(data_path + 'train_label&null60.csv')\n",
    "test_label_null60 = pd.read_csv(data_path + 'test_label&null60.csv')"
   ]
  },
  {
   "cell_type": "code",
   "execution_count": null,
   "metadata": {},
   "outputs": [],
   "source": [
    "## for colab\n",
    "train_label_null60 = pd.read_csv(colab_path + 'train_label&null60.csv')\n",
    "test_label_null60 = pd.read_csv(colab_path + 'test_label&null60.csv')"
   ]
  },
  {
   "cell_type": "code",
   "execution_count": null,
   "metadata": {},
   "outputs": [],
   "source": [
    "# label_null60 categorical column indexing\n",
    "\n",
    "object_col = ['card1','card4','card6','P_emaildomain','R_emaildomain',\n",
    "              'M1','M2','M3','M4','M5','M6','M7','M8','M9','id_12',\n",
    "              'id_15','id_16','id_23','id_27','id_28','id_29','id_30',\n",
    "              'id_31','id_33','id_34','id_35','id_36','id_37','id_38','DeviceType']\n",
    "\n",
    "a = ['R_emaildomain', 'id_12', 'id_15', 'id_16', 'id_23', 'id_27', 'id_28', 'id_29', 'id_30', 'id_31', 'id_33', 'id_34', 'id_35', 'id_36', 'id_37', 'id_38', 'DeviceType']\n",
    "\n",
    "for i in a:\n",
    "    object_col.remove(i)\n",
    "    \n",
    "object_col"
   ]
  },
  {
   "cell_type": "markdown",
   "metadata": {
    "id": "9PTi2jQFtufa"
   },
   "source": [
    "### Datawig"
   ]
  },
  {
   "cell_type": "code",
   "execution_count": null,
   "metadata": {
    "id": "O5IJfw-ytN84"
   },
   "outputs": [],
   "source": [
    "# # Datawig code Guide Line\n",
    "\n",
    "# import datawig\n",
    "\n",
    "# input_columns = list(set(train.columns) - set(['target']))\n",
    "# imputer = datawig.SimpleImputer(input_columns=input_columns,\n",
    "#                                 output_column='결측치를 포함하는 변수명')\n",
    "# imputer.fit(train_df=train, num_epochs=50)\n",
    "# null_train = train[train['결측치를 포함하는 변수명'].isnull()]\n",
    "# null_imputed = imputer.predict(null_train)\n",
    "# imputed_train = pd.DataFrame(null_imputed)"
   ]
  },
  {
   "cell_type": "code",
   "execution_count": null,
   "metadata": {},
   "outputs": [],
   "source": [
    "# # Datawig code Guide Line\n",
    "# import datawig\n",
    "# import pandas as pd\n",
    "# from datawig.utils import random_split\n",
    "# df = pd.read_csv('train_label.csv').sample(n=1000)\n",
    "# df_train, df_test = random_split(df, split_ratios=[0.8, 0.2])\n",
    "   \n",
    "# df_train, df_test = datawig.utils.random_split(df)\n",
    "\n",
    "# #Initialize a SimpleImputer model\n",
    "# imputer = datawig.SimpleImputer(\n",
    "#     input_columns=['isFraud','TransactionDT','TransactionAmt','ProductCD','card1'], # column(s) containing information about the column we want to impute\n",
    "#     output_column='id_36', # the column we'd like to impute values for \n",
    "#     )\n",
    "\n",
    "# #Fit an imputer model on the train data\n",
    "# imputer.fit(train_df=df_train, num_epochs=50)\n",
    "\n",
    "# #Impute missing values and return original dataframe with predictions\n",
    "# imputed = imputer.predict(df_test)"
   ]
  },
  {
   "cell_type": "code",
   "execution_count": null,
   "metadata": {},
   "outputs": [],
   "source": []
  }
 ],
 "metadata": {
  "accelerator": "GPU",
  "colab": {
   "collapsed_sections": [],
   "machine_shape": "hm",
   "name": "IEEE_MICE_Datawig.ipynb의 사본",
   "provenance": []
  },
  "gpuClass": "standard",
  "kernelspec": {
   "display_name": "Python 3 (ipykernel)",
   "language": "python",
   "name": "python3"
  },
  "language_info": {
   "codemirror_mode": {
    "name": "ipython",
    "version": 3
   },
   "file_extension": ".py",
   "mimetype": "text/x-python",
   "name": "python",
   "nbconvert_exporter": "python",
   "pygments_lexer": "ipython3",
   "version": "3.8.13"
  },
  "toc": {
   "base_numbering": 1,
   "nav_menu": {},
   "number_sections": true,
   "sideBar": true,
   "skip_h1_title": false,
   "title_cell": "Table of Contents",
   "title_sidebar": "Contents",
   "toc_cell": false,
   "toc_position": {},
   "toc_section_display": true,
   "toc_window_display": false
  }
 },
 "nbformat": 4,
 "nbformat_minor": 1
}
